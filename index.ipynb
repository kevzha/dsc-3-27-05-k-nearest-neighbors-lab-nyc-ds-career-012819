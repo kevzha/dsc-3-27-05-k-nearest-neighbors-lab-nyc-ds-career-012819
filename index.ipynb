{
 "cells": [
  {
   "cell_type": "markdown",
   "metadata": {},
   "source": [
    "# K-Nearest Neighbors - Lab\n",
    "\n",
    "## Introduction\n",
    "\n",
    "In this lesson, we'll build a simple version of a **_K-Nearest Neigbors Classifier_** from scratch, and train it to make predictions on a dataset!\n",
    "\n",
    "## Objectives\n",
    "\n",
    "You will be able to:\n",
    "\n",
    "* Implement a basic KNN algorithm from scratch\n",
    "\n",
    "## Getting Started\n",
    "\n",
    "We'll begin this lab by creating our classifier.  To keep things simple, we'll be using a helper function from the scipy library to calcluate euclidean distance for us--specifically, the `euclidean()` function from the `scipy.spatial.distance` module. Import this function in the cell below."
   ]
  },
  {
   "cell_type": "code",
   "execution_count": 2,
   "metadata": {},
   "outputs": [],
   "source": [
    "from scipy.spatial.distance import euclidean as euc\n",
    "import numpy as np\n",
    "np.random.seed(0)"
   ]
  },
  {
   "cell_type": "markdown",
   "metadata": {},
   "source": [
    "Great! Now, we'll need to define our `KNN` class. Since we don't need to do anything at initialization, we don't need to modify the `__init__` method at all.\n",
    "\n",
    "In the cell below:\n",
    "\n",
    "* Create an class called `KNN`.\n",
    "* This class should contain two empty methods--`fit`, and `predict`. (Set the body of both of these methods to `pass`)"
   ]
  },
  {
   "cell_type": "code",
   "execution_count": 3,
   "metadata": {},
   "outputs": [],
   "source": [
    "class KNN(object):\n",
    "    def fit():\n",
    "        pass\n",
    "    \n",
    "    def predict():\n",
    "        pass"
   ]
  },
  {
   "cell_type": "markdown",
   "metadata": {},
   "source": [
    "## Completing the `fit` Method\n",
    "\n",
    "Recall from our previous lesson on KNN that when \"fitting\" a KNN classifier, all we're really doing is storing the points and their corresponding labels. There's no actual \"fitting\" involved here, since all we can do is store the data so that we can use it to calculate the nearest nighbors when the `predict` method is called.\n",
    "\n",
    "Our inputs for this function should be:\n",
    "\n",
    "* `self`, since this will be an instance method inside the `KNN` class.\n",
    "* `X_train`--A 2-dimensional array. Each of the internal arrays represents a _vector_ for a given point in space. \n",
    "* `y_train`--the corresponding labels for each vector in `X_train`. The label at `y_train[0]` is the label that corresponds to the vector at `X_train[0]`, and so on. \n",
    "\n",
    "In the cell below, complete the `fit` method."
   ]
  },
  {
   "cell_type": "code",
   "execution_count": 4,
   "metadata": {},
   "outputs": [],
   "source": [
    "def fit(self, X_train, y_train):\n",
    "    self.X_train = X_train\n",
    "    self.y_train = y_train\n",
    "    \n",
    "# This line updates the knn.fit method to point to the function we've just written\n",
    "KNN.fit = fit"
   ]
  },
  {
   "cell_type": "markdown",
   "metadata": {},
   "source": [
    "### Helper Functions\n",
    "\n",
    "Next, we'll write two helper functions to make things easier for us when completing the `predict` function. The first helper function we'll write return an array containing the distance between a point we pass in and every point inside of `X_train`. \n",
    "\n",
    "In the cell below, complete the `_get_distances()` function. This function should:\n",
    "\n",
    "* Take in two arguments: `self` and `x`\n",
    "* Create an empty array to hold all the distances we're going to calculate\n",
    "* Enumerate through every item in `self.X_train`. For each item: \n",
    "    * Use the `euc()` function we imported to get the distance between x and the current point from `X_train`.\n",
    "    * Create a tuple containing the index and the distance (in that order!) and append it to our `distances` array.\n",
    "* Return the `distances` array when a distance has been generated for each item in `self.X_train`."
   ]
  },
  {
   "cell_type": "code",
   "execution_count": 5,
   "metadata": {},
   "outputs": [],
   "source": [
    "def _get_distances(self, x):\n",
    "    dists = []\n",
    "    for i, val in enumerate(self.X_train):\n",
    "        dist = euc(x, val)\n",
    "        dists.append((i, dist))\n",
    "    return dists\n",
    "# This line attaches the function we just created as a method to our KNN class.\n",
    "KNN._get_distances = _get_distances"
   ]
  },
  {
   "cell_type": "markdown",
   "metadata": {},
   "source": [
    "Great! The second big challenge in a `predict` method is getting the indices of the k-nearest points. To keep our coming `predict` method nice and clean, we'll abstract this functionality into a helper method called `_get_k_nearest`.  \n",
    "\n",
    "In the cell below, complete the `_get_k_nearest` function.  This function should:\n",
    "\n",
    "* Take in 3 arguments:\n",
    "    * `self`\n",
    "    * `dists`, an array of tuples containing (index, distance), which will be output from the `_get_distances` method. \n",
    "    * `k`, the number of nearest neighbors we want to return.\n",
    "* Sort our `dists` array by distances values, which are the second element in each tuple\n",
    "* Return the first `k` tuples from then (now sorted) `dists` array.\n",
    "\n",
    "**_Hint:_** To easily sort on the second item in the tuples contained within the `dists` array, use the `sorted` function and pass in lambda for the `key=` parameter. To sort on the second element of each tuple, we can just use `key=lambda x: x[1]`!"
   ]
  },
  {
   "cell_type": "code",
   "execution_count": 6,
   "metadata": {},
   "outputs": [],
   "source": [
    "def _get_k_nearest(self, dists, k):\n",
    "    sort_dist = sorted(dist, key=lambda x: x[1])\n",
    "    return sort_dist[0:k]\n",
    "\n",
    "# This line attaches the function we just created as a method to our KNN class.\n",
    "KNN._get_k_nearest = _get_k_nearest"
   ]
  },
  {
   "cell_type": "markdown",
   "metadata": {},
   "source": [
    "Now, we have helper functions to help us get the distances, and then get the k-nearest neighbors based on those distances. The final helper function we'll create will help us get the labels that correspond to each of the k-nearest point, and return the class that occurs the most. \n",
    "\n",
    "Complete the `_get_label_prediction()` function in the cell below. This function should:\n",
    "\n",
    "* Create a list containing the labels from `self.y_train` for each index in `k_nearest` (remember, each item in `k_nearest` is a tuple, and the index is stored as the first item in each tuple)\n",
    "* Get the total counts for each label (use `np.bincount()` and pass in the label array created in the previous step)\n",
    "* Get the index of the label with the highest overall count in counts (use `np.argmax()` for this, and pass in the counts created in the previous step)."
   ]
  },
  {
   "cell_type": "code",
   "execution_count": 7,
   "metadata": {},
   "outputs": [],
   "source": [
    "def _get_label_prediction(self, k_nearest):\n",
    "    labels = [self.y_train[i] for i, _ in k_nearest]\n",
    "    counts = np.bincount(labels)\n",
    "    return np.argmax(counts)\n",
    "\n",
    "# This line attaches the function we just created as a method to our KNN class.\n",
    "KNN._get_label_prediction = _get_label_prediction"
   ]
  },
  {
   "cell_type": "markdown",
   "metadata": {},
   "source": [
    "Great! Now, we need to complete the `predict` method. This will be much simpler, now that we have some \n",
    "\n",
    "## Completing the `predict` Method\n",
    "\n",
    "This method does all the heavy lifting for KNN, so this will be a bit more complex than our `fit` method. Let's examine how this method should work, so that we'll have a better idea of how to write it.\n",
    "\n",
    "1. The function takes in an array of vectors that we want predictions for.\n",
    "1. For each vector that we want to make a prediction for: \n",
    "    1a. The classifier calculates the distance between that vector and every other vector in our training set. \n",
    "    1b. The classifier identifies the K nearest vectors to the vector we want a prediction for.\n",
    "    1c. The classifier determines which label the majority of the K nearest neighbors share, and appends this prediction to an array we will output. The index of the prediction in this array should be the same as the index of the point that it corresponds to (e.g. `pred[0]` is the prediction for `X_test[0]`).\n",
    "2. Once predictions have been generated for every vector in question, return the array of predictions. \n",
    "\n",
    "This tells us a few things about what our `predict` function will need to be able to do:\n",
    "\n",
    "* In addition to `self`, our `predict` function should take in two arguments: \n",
    "    * `X_test`, the points we want to classify\n",
    "    * `k`, which specifies the number of neighbors we should use to make the classification.  We'll set `k=3` as a default, but allow the user to update it if they choose.\n",
    "* Our method will need to iterate through every item in `X_test`. For each item:\n",
    "    * Calculate the distance to all points in `X_train` by using our `_get_distances()` helper method we created.\n",
    "    * Find the k-nearest points in `X_train` by using the `_get_k_nearest()` helper method we created\n",
    "    * Use the index values contained within the tuples returned by `_get_k_nearest()` to get the corresponding labels for each of the nearest points. \n",
    "    * Determine which class is most represented in these labels and treat that as the prediction for this point. Append the prediction to `preds`.\n",
    "* Once a prediction has been generated for every item in `X_test`, return `preds`\n",
    "\n",
    "Follow these instructions to complete the `predict()` method in the cell below!"
   ]
  },
  {
   "cell_type": "code",
   "execution_count": 23,
   "metadata": {},
   "outputs": [],
   "source": [
    "def predict(self, X_test, k=3):\n",
    "    preds = []\n",
    "    # Iterate through each item in X_test\n",
    "    for i in X_test:\n",
    "        # Get distances between i and each item in X_train\n",
    "        dists = self._get_distances(i)\n",
    "        print(dists)\n",
    "        k_nearest = self._get_k_nearest(dists, k)\n",
    "        predicted_label = self._get_label_prediction(k_nearest)\n",
    "        preds.append(predicted_label)\n",
    "    return preds\n",
    "        \n",
    "KNN.predict = predict"
   ]
  },
  {
   "cell_type": "markdown",
   "metadata": {},
   "source": [
    "Great! Now, let's try out our new KNN classifier on a sample dataset to see how well it works!\n",
    "\n",
    "## Testing Our KNN Classifier\n",
    "\n",
    "In order to test the performance of our model, we're going to import the **_Iris Dataset_**. Specifically, we'll use the `load_iris` function, which can be found inside of the `sklearn.datasets` module. We'll then call this function, and use the object it returns. We'll also import `train_test_split` from `sklearn.model_selection`, as well as `accuracy_score` from `sklearn.metrics`.  Note that there are **_3 classes_** in the Iris Dataset, making this a multicategorical classification problem. This means that we can't use evaluation metrics that are meant for binary classification problems. For this, we'll just stick to accuracy. \n",
    "\n",
    "Run the cell below to import everything we'll need from sklearn to test our model. "
   ]
  },
  {
   "cell_type": "code",
   "execution_count": 19,
   "metadata": {},
   "outputs": [],
   "source": [
    "from sklearn.datasets import load_iris\n",
    "from sklearn.model_selection import train_test_split\n",
    "from sklearn.metrics import accuracy_score\n",
    "\n",
    "iris = load_iris()\n",
    "data = iris.data\n",
    "target = iris.target"
   ]
  },
  {
   "cell_type": "markdown",
   "metadata": {},
   "source": [
    "Now, you'll need to use `train_test_split` to split our training data into training and testing sets. Pass in the `data`, the `target`, and set a `test_size` of `0.25`."
   ]
  },
  {
   "cell_type": "code",
   "execution_count": 20,
   "metadata": {},
   "outputs": [],
   "source": [
    "X_train, X_test, y_train, y_test = train_test_split(data, target, test_size=0.25)"
   ]
  },
  {
   "cell_type": "markdown",
   "metadata": {},
   "source": [
    "Now, instantiate a knn object, and `fit` it to the data in `X_train` and the labels in `y_train`."
   ]
  },
  {
   "cell_type": "code",
   "execution_count": 21,
   "metadata": {},
   "outputs": [],
   "source": [
    "knn = KNN()\n",
    "knn.fit(X_train, y_train)"
   ]
  },
  {
   "cell_type": "markdown",
   "metadata": {},
   "source": [
    "Now, we'll create some predictions on our testing data.  In the cell below, use the `.predict()` method to generate predictions for the data stored in `X_test`."
   ]
  },
  {
   "cell_type": "code",
   "execution_count": 24,
   "metadata": {},
   "outputs": [
    {
     "name": "stdout",
     "output_type": "stream",
     "text": [
      "[(0, 1.1832159566199232), (1, 3.6207733980463344), (2, 3.5298725189445586), (3, 0.7280109889280515), (4, 0.7937253933193772), (5, 0.7549834435270754), (6, 0.7549834435270751), (7, 1.1747340124470729), (8, 1.94164878389476), (9, 0.9899494936611661), (10, 1.7691806012954132), (11, 3.1416556144810017), (12, 2.8722813232690148), (13, 1.0583005244258363), (14, 1.1135528725660042), (15, 3.7322915213043046), (16, 0.8999999999999997), (17, 3.1272991542223783), (18, 2.7459060435491964), (19, 3.4813790371058424), (20, 3.641428291206625), (21, 0.608276253029822), (22, 1.02469507659596), (23, 1.4798648586948744), (24, 3.3955853692699294), (25, 0.3741657386773941), (26, 1.1532562594670794), (27, 1.4317821063276353), (28, 0.8426149773176359), (29, 1.2767145334803705), (30, 1.7776388834631176), (31, 3.862641583165593), (32, 1.4106735979665885), (33, 2.2022715545545237), (34, 3.0282007859453444), (35, 1.6583123951777001), (36, 2.2293496809607953), (37, 3.726929030716845), (38, 0.6480740698407862), (39, 1.236931687685298), (40, 3.397057550292606), (41, 1.3784048752090219), (42, 0.4242640687119282), (43, 0.7937253933193773), (44, 2.029778313018444), (45, 0.5385164807134503), (46, 0.7348469228349535), (47, 3.2280024783137944), (48, 1.4456832294800959), (49, 1.2609520212918488), (50, 3.449637662132068), (51, 1.183215956619923), (52, 3.5014282800023193), (53, 3.127299154222378), (54, 1.3228756555322951), (55, 1.4000000000000004), (56, 3.54682957019364), (57, 1.0344080432788605), (58, 0.7348469228349537), (59, 3.293933818400121), (60, 3.5916569992135945), (61, 0.7280109889280518), (62, 3.4307433596816885), (63, 3.551056180912941), (64, 3.4365680554879168), (65, 1.3416407864998738), (66, 0.7549834435270746), (67, 1.4456832294800959), (68, 3.792097045171708), (69, 3.5199431813596083), (70, 3.1448370387032774), (71, 0.9055385138137414), (72, 0.5196152422706629), (73, 2.4698178070456938), (74, 3.4583232931581165), (75, 0.9219544457292883), (76, 0.8366600265340758), (77, 4.026164427839479), (78, 1.22065556157337), (79, 1.0246950765959597), (80, 3.1874754901018454), (81, 3.4942810419312296), (82, 0.7937253933193773), (83, 3.640054944640259), (84, 3.847076812334269), (85, 3.518522417151836), (86, 3.395585369269929), (87, 3.5298725189445586), (88, 1.044030650891055), (89, 0.7549834435270747), (90, 1.1445523142259597), (91, 0.9899494936611661), (92, 1.6673332000533068), (93, 1.5), (94, 0.8426149773176356), (95, 4.106093033529562), (96, 1.5588457268119893), (97, 1.03440804327886), (98, 1.1832159566199232), (99, 0.8831760866327846), (100, 2.0024984394500787), (101, 0.4690415759823428), (102, 1.3928388277184116), (103, 0.4582575694955842), (104, 1.2041594578792294), (105, 3.187475490101846), (106, 0.9110433579144298), (107, 1.4247806848775004), (108, 3.505709628591621), (109, 0.5830951894845301), (110, 1.4071247279470287), (111, 2.7166155414412243)]\n"
     ]
    },
    {
     "ename": "NameError",
     "evalue": "name 'dist' is not defined",
     "output_type": "error",
     "traceback": [
      "\u001b[0;31m\u001b[0m",
      "\u001b[0;31mNameError\u001b[0mTraceback (most recent call last)",
      "\u001b[0;32m<ipython-input-24-78c6721d7461>\u001b[0m in \u001b[0;36m<module>\u001b[0;34m()\u001b[0m\n\u001b[0;32m----> 1\u001b[0;31m \u001b[0mpreds\u001b[0m \u001b[0;34m=\u001b[0m \u001b[0mknn\u001b[0m\u001b[0;34m.\u001b[0m\u001b[0mpredict\u001b[0m\u001b[0;34m(\u001b[0m\u001b[0mX_test\u001b[0m\u001b[0;34m)\u001b[0m\u001b[0;34m\u001b[0m\u001b[0m\n\u001b[0m",
      "\u001b[0;32m<ipython-input-23-26c0b91d41e4>\u001b[0m in \u001b[0;36mpredict\u001b[0;34m(self, X_test, k)\u001b[0m\n\u001b[1;32m      6\u001b[0m         \u001b[0mdists\u001b[0m \u001b[0;34m=\u001b[0m \u001b[0mself\u001b[0m\u001b[0;34m.\u001b[0m\u001b[0m_get_distances\u001b[0m\u001b[0;34m(\u001b[0m\u001b[0mi\u001b[0m\u001b[0;34m)\u001b[0m\u001b[0;34m\u001b[0m\u001b[0m\n\u001b[1;32m      7\u001b[0m         \u001b[0mprint\u001b[0m\u001b[0;34m(\u001b[0m\u001b[0mdists\u001b[0m\u001b[0;34m)\u001b[0m\u001b[0;34m\u001b[0m\u001b[0m\n\u001b[0;32m----> 8\u001b[0;31m         \u001b[0mk_nearest\u001b[0m \u001b[0;34m=\u001b[0m \u001b[0mself\u001b[0m\u001b[0;34m.\u001b[0m\u001b[0m_get_k_nearest\u001b[0m\u001b[0;34m(\u001b[0m\u001b[0mdists\u001b[0m\u001b[0;34m,\u001b[0m \u001b[0mk\u001b[0m\u001b[0;34m)\u001b[0m\u001b[0;34m\u001b[0m\u001b[0m\n\u001b[0m\u001b[1;32m      9\u001b[0m         \u001b[0mpredicted_label\u001b[0m \u001b[0;34m=\u001b[0m \u001b[0mself\u001b[0m\u001b[0;34m.\u001b[0m\u001b[0m_get_label_prediction\u001b[0m\u001b[0;34m(\u001b[0m\u001b[0mk_nearest\u001b[0m\u001b[0;34m)\u001b[0m\u001b[0;34m\u001b[0m\u001b[0m\n\u001b[1;32m     10\u001b[0m         \u001b[0mpreds\u001b[0m\u001b[0;34m.\u001b[0m\u001b[0mappend\u001b[0m\u001b[0;34m(\u001b[0m\u001b[0mpredicted_label\u001b[0m\u001b[0;34m)\u001b[0m\u001b[0;34m\u001b[0m\u001b[0m\n",
      "\u001b[0;32m<ipython-input-6-cae74bd90ef3>\u001b[0m in \u001b[0;36m_get_k_nearest\u001b[0;34m(self, dists, k)\u001b[0m\n\u001b[1;32m      1\u001b[0m \u001b[0;32mdef\u001b[0m \u001b[0m_get_k_nearest\u001b[0m\u001b[0;34m(\u001b[0m\u001b[0mself\u001b[0m\u001b[0;34m,\u001b[0m \u001b[0mdists\u001b[0m\u001b[0;34m,\u001b[0m \u001b[0mk\u001b[0m\u001b[0;34m)\u001b[0m\u001b[0;34m:\u001b[0m\u001b[0;34m\u001b[0m\u001b[0m\n\u001b[0;32m----> 2\u001b[0;31m     \u001b[0msort_dist\u001b[0m \u001b[0;34m=\u001b[0m \u001b[0msorted\u001b[0m\u001b[0;34m(\u001b[0m\u001b[0mdist\u001b[0m\u001b[0;34m,\u001b[0m \u001b[0mkey\u001b[0m\u001b[0;34m=\u001b[0m\u001b[0;32mlambda\u001b[0m \u001b[0mx\u001b[0m\u001b[0;34m:\u001b[0m \u001b[0mx\u001b[0m\u001b[0;34m[\u001b[0m\u001b[0;36m1\u001b[0m\u001b[0;34m]\u001b[0m\u001b[0;34m)\u001b[0m\u001b[0;34m\u001b[0m\u001b[0m\n\u001b[0m\u001b[1;32m      3\u001b[0m     \u001b[0;32mreturn\u001b[0m \u001b[0msort_dist\u001b[0m\u001b[0;34m[\u001b[0m\u001b[0;36m0\u001b[0m\u001b[0;34m:\u001b[0m\u001b[0mk\u001b[0m\u001b[0;34m]\u001b[0m\u001b[0;34m\u001b[0m\u001b[0m\n\u001b[1;32m      4\u001b[0m \u001b[0;34m\u001b[0m\u001b[0m\n\u001b[1;32m      5\u001b[0m \u001b[0;31m# This line attaches the function we just created as a method to our KNN class.\u001b[0m\u001b[0;34m\u001b[0m\u001b[0;34m\u001b[0m\u001b[0m\n",
      "\u001b[0;31mNameError\u001b[0m: name 'dist' is not defined"
     ]
    }
   ],
   "source": [
    "preds = knn.predict(X_test)"
   ]
  },
  {
   "cell_type": "markdown",
   "metadata": {},
   "source": [
    "And now, for the moment of truth! Let's test the accuracy of our predictions. In the cell below, complete the call to `accuracy_score` by passing in `y_test` and our `preds`!"
   ]
  },
  {
   "cell_type": "code",
   "execution_count": null,
   "metadata": {},
   "outputs": [],
   "source": [
    "print(\"Testing Accuracy: {}\".format(accuracy_score(None, None)))\n",
    "# Expected Output: Testing Accuracy: 0.9736842105263158"
   ]
  },
  {
   "cell_type": "markdown",
   "metadata": {},
   "source": [
    "Over 97% accuracy! Not bad for a handwritten machine learning classifier!"
   ]
  },
  {
   "cell_type": "markdown",
   "metadata": {},
   "source": [
    "## Summary\n",
    "\n",
    "That was great! In what's next, you'll dive a little deeper into evaluating performance of a KNN algorithm!"
   ]
  }
 ],
 "metadata": {
  "kernelspec": {
   "display_name": "Python 3",
   "language": "python",
   "name": "python3"
  },
  "language_info": {
   "codemirror_mode": {
    "name": "ipython",
    "version": 3
   },
   "file_extension": ".py",
   "mimetype": "text/x-python",
   "name": "python",
   "nbconvert_exporter": "python",
   "pygments_lexer": "ipython3",
   "version": "3.6.6"
  }
 },
 "nbformat": 4,
 "nbformat_minor": 2
}
